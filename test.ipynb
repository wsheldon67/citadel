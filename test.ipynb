{
 "cells": [
  {
   "cell_type": "code",
   "execution_count": 1,
   "metadata": {},
   "outputs": [],
   "source": [
    "%load_ext autoreload\n",
    "%autoreload 2\n",
    "from will_citadel import *\n",
    "from will_citadel_test import ExampleGame"
   ]
  },
  {
   "cell_type": "code",
   "execution_count": 2,
   "metadata": {},
   "outputs": [],
   "source": [
    "example = ExampleGame()\n",
    "game = example.game\n",
    "player0, player1 = game.players"
   ]
  },
  {
   "cell_type": "code",
   "execution_count": 3,
   "metadata": {},
   "outputs": [
    {
     "data": {
      "text/html": [
       "<div>\n",
       "        <div style='display: flex; flex-wrap: wrap; width: 100px;'><div style='background-color: #000000'>🙎</div><div style='background-color: #000000'>🗡️</div><div style='background-color: #000000'>💣</div><div style='background-color: #000000'>🙎</div><div style='background-color: #000000'>🧙‍♂️</div><div style='background-color: #000000'>🗡️</div></div>\n",
       "        <div style='display: flex; flex-direction: row;'>\n",
       "            <div style='display: flex; flex-direction: column;'>Player 0<div style='display: flex; flex-wrap: wrap; width: 100px;'><div style='background-color: #000000'>♞</div><div style='background-color: #000000'>🐢</div><div style='background-color: #000000'>♞</div></div></div>\n",
       "            <table><tr style='height: 36px;'><th></th><th>y0</th><th>y1</th><th>y2</th><th>y3</th><th>y4</th></tr><tr style='height: 36px;'><th>x0</th><td style='background-color: #fceecf; width: 18px; height 34px; border: 1px solid white; color: black; text-align: center;'> </td><td style='background-color: #fceecf; width: 18px; height 34px; border: 1px solid white; color: black; text-align: center;'> </td><td style='background-color: #fceecf; width: 18px; height 34px; border: 1px solid white; color: black; text-align: center;'> </td><td style='background-color: #fceecf; width: 18px; height 34px; border: 1px solid white; color: black; text-align: center;'>⛃</td><td style='background-color: #87CEEB; width: 18px; height 34px; border: 1px solid white; color: black; text-align: center;'> </td></tr><tr style='height: 36px;'><th>x1</th><td style='background-color: #fceecf; width: 18px; height 34px; border: 1px solid white; color: black; text-align: center;'> </td><td style='background-color: #87CEEB; width: 18px; height 34px; border: 1px solid white; color: black; text-align: center;'> </td><td style='background-color: #fceecf; width: 18px; height 34px; border: 1px solid white; color: black; text-align: center;'> </td><td style='background-color: #87CEEB; width: 18px; height 34px; border: 1px solid white; color: black; text-align: center;'> </td><td style='background-color: #fceecf; width: 18px; height 34px; border: 1px solid white; color: black; text-align: center;'> </td></tr><tr style='height: 36px;'><th>x2</th><td style='background-color: #fceecf; width: 18px; height 34px; border: 1px solid white; color: black; text-align: center;'>⛃</td><td style='background-color: #fceecf; width: 18px; height 34px; border: 1px solid white; color: black; text-align: center;'> </td><td style='background-color: #fceecf; width: 18px; height 34px; border: 1px solid white; color: black; text-align: center;'> </td><td style='background-color: #87CEEB; width: 18px; height 34px; border: 1px solid white; color: black; text-align: center;'> </td><td style='background-color: #87CEEB; width: 18px; height 34px; border: 1px solid white; color: black; text-align: center;'> </td></tr></table>\n",
       "            <div style='display: flex; flex-direction: column;'>Player 1<div style='display: flex; flex-wrap: wrap; width: 100px;'><div style='background-color: #000000'>🐦</div><div style='background-color: #000000'>🐇</div><div style='background-color: #000000'>🐦</div></div></div>\n",
       "        </div>\n",
       "        <div style='display: flex; flex-wrap: wrap; width: 100px;'></div>\n",
       "        <p>Current Player: Player 0</p>\n",
       "        <p>Phase: BATTLE</p>\n",
       "        </div>"
      ],
      "text/plain": [
       "<will_citadel.Game at 0x1d9418bddd0>"
      ]
     },
     "execution_count": 3,
     "metadata": {},
     "output_type": "execute_result"
    }
   ],
   "source": [
    "example.choose_personal_pieces()\n",
    "example.choose_community_pieces()\n",
    "example.place_lands()\n",
    "example.place_citadels()"
   ]
  },
  {
   "cell_type": "code",
   "execution_count": 4,
   "metadata": {},
   "outputs": [
    {
     "data": {
      "text/html": [
       "<div style='display: flex; flex-wrap: wrap; width: 100px;'><div style='background-color: #000000'>♞</div><div style='background-color: #000000'>🐢</div><div style='background-color: #000000'>♞</div></div>"
      ],
      "text/plain": [
       "[Knight, Turtle, Knight]"
      ]
     },
     "execution_count": 4,
     "metadata": {},
     "output_type": "execute_result"
    }
   ],
   "source": [
    "player0.personal_stash"
   ]
  },
  {
   "cell_type": "code",
   "execution_count": 5,
   "metadata": {},
   "outputs": [
    {
     "data": {
      "text/html": [
       "<div>\n",
       "        <div style='display: flex; flex-wrap: wrap; width: 100px;'><div style='background-color: #000000'>🙎</div><div style='background-color: #000000'>🗡️</div><div style='background-color: #000000'>💣</div><div style='background-color: #000000'>🙎</div><div style='background-color: #000000'>🧙‍♂️</div><div style='background-color: #000000'>🗡️</div></div>\n",
       "        <div style='display: flex; flex-direction: row;'>\n",
       "            <div style='display: flex; flex-direction: column;'>Player 0<div style='display: flex; flex-wrap: wrap; width: 100px;'><div style='background-color: #000000'>🐢</div><div style='background-color: #000000'>♞</div></div></div>\n",
       "            <table><tr style='height: 36px;'><th></th><th>y0</th><th>y1</th><th>y2</th><th>y3</th><th>y4</th></tr><tr style='height: 36px;'><th>x0</th><td style='background-color: #fceecf; width: 18px; height 34px; border: 1px solid white; color: black; text-align: center;'> </td><td style='background-color: #fceecf; width: 18px; height 34px; border: 1px solid white; color: black; text-align: center;'> </td><td style='background-color: #fceecf; width: 18px; height 34px; border: 1px solid white; color: black; text-align: center;'> </td><td style='background-color: #fceecf; width: 18px; height 34px; border: 1px solid white; color: black; text-align: center;'>⛃</td><td style='background-color: #87CEEB; width: 18px; height 34px; border: 1px solid white; color: black; text-align: center;'> </td></tr><tr style='height: 36px;'><th>x1</th><td style='background-color: #fceecf; width: 18px; height 34px; border: 1px solid white; color: black; text-align: center;'>♞</td><td style='background-color: #87CEEB; width: 18px; height 34px; border: 1px solid white; color: black; text-align: center;'> </td><td style='background-color: #fceecf; width: 18px; height 34px; border: 1px solid white; color: black; text-align: center;'> </td><td style='background-color: #87CEEB; width: 18px; height 34px; border: 1px solid white; color: black; text-align: center;'> </td><td style='background-color: #fceecf; width: 18px; height 34px; border: 1px solid white; color: black; text-align: center;'> </td></tr><tr style='height: 36px;'><th>x2</th><td style='background-color: #fceecf; width: 18px; height 34px; border: 1px solid white; color: black; text-align: center;'>⛃</td><td style='background-color: #fceecf; width: 18px; height 34px; border: 1px solid white; color: black; text-align: center;'> </td><td style='background-color: #fceecf; width: 18px; height 34px; border: 1px solid white; color: black; text-align: center;'> </td><td style='background-color: #87CEEB; width: 18px; height 34px; border: 1px solid white; color: black; text-align: center;'> </td><td style='background-color: #87CEEB; width: 18px; height 34px; border: 1px solid white; color: black; text-align: center;'> </td></tr></table>\n",
       "            <div style='display: flex; flex-direction: column;'>Player 1<div style='display: flex; flex-wrap: wrap; width: 100px;'><div style='background-color: #000000'>🐦</div><div style='background-color: #000000'>🐇</div><div style='background-color: #000000'>🐦</div></div></div>\n",
       "        </div>\n",
       "        <div style='display: flex; flex-wrap: wrap; width: 100px;'></div>\n",
       "        <p>Current Player: Player 1</p>\n",
       "        <p>Phase: PIECE_SELECTION</p>\n",
       "        </div>"
      ],
      "text/plain": [
       "<will_citadel.Game at 0x1d9418bddd0>"
      ]
     },
     "execution_count": 5,
     "metadata": {},
     "output_type": "execute_result"
    }
   ],
   "source": [
    "player0.place_piece(player0.personal_stash.where(Knight)[0], Coordinate(1, 0))\n",
    "game"
   ]
  },
  {
   "cell_type": "code",
   "execution_count": 6,
   "metadata": {},
   "outputs": [
    {
     "data": {
      "text/html": [
       "<div>\n",
       "        <div style='display: flex; flex-wrap: wrap; width: 100px;'><div style='background-color: #000000'>🙎</div><div style='background-color: #000000'>🗡️</div><div style='background-color: #000000'>💣</div><div style='background-color: #000000'>🙎</div><div style='background-color: #000000'>🧙‍♂️</div><div style='background-color: #000000'>🗡️</div></div>\n",
       "        <div style='display: flex; flex-direction: row;'>\n",
       "            <div style='display: flex; flex-direction: column;'>Player 0<div style='display: flex; flex-wrap: wrap; width: 100px;'><div style='background-color: #000000'>🐢</div><div style='background-color: #000000'>♞</div></div></div>\n",
       "            <table><tr style='height: 36px;'><th></th><th>y0</th><th>y1</th><th>y2</th><th>y3</th><th>y4</th></tr><tr style='height: 36px;'><th>x0</th><td style='background-color: #fceecf; width: 18px; height 34px; border: 1px solid white; color: black; text-align: center;'> </td><td style='background-color: #fceecf; width: 18px; height 34px; border: 1px solid white; color: black; text-align: center;'> </td><td style='background-color: #fceecf; width: 18px; height 34px; border: 1px solid white; color: black; text-align: center;'>🐦</td><td style='background-color: #fceecf; width: 18px; height 34px; border: 1px solid white; color: black; text-align: center;'>⛃</td><td style='background-color: #87CEEB; width: 18px; height 34px; border: 1px solid white; color: black; text-align: center;'> </td></tr><tr style='height: 36px;'><th>x1</th><td style='background-color: #fceecf; width: 18px; height 34px; border: 1px solid white; color: black; text-align: center;'>♞</td><td style='background-color: #87CEEB; width: 18px; height 34px; border: 1px solid white; color: black; text-align: center;'> </td><td style='background-color: #fceecf; width: 18px; height 34px; border: 1px solid white; color: black; text-align: center;'> </td><td style='background-color: #87CEEB; width: 18px; height 34px; border: 1px solid white; color: black; text-align: center;'> </td><td style='background-color: #fceecf; width: 18px; height 34px; border: 1px solid white; color: black; text-align: center;'> </td></tr><tr style='height: 36px;'><th>x2</th><td style='background-color: #fceecf; width: 18px; height 34px; border: 1px solid white; color: black; text-align: center;'>⛃</td><td style='background-color: #fceecf; width: 18px; height 34px; border: 1px solid white; color: black; text-align: center;'> </td><td style='background-color: #fceecf; width: 18px; height 34px; border: 1px solid white; color: black; text-align: center;'> </td><td style='background-color: #87CEEB; width: 18px; height 34px; border: 1px solid white; color: black; text-align: center;'> </td><td style='background-color: #87CEEB; width: 18px; height 34px; border: 1px solid white; color: black; text-align: center;'> </td></tr></table>\n",
       "            <div style='display: flex; flex-direction: column;'>Player 1<div style='display: flex; flex-wrap: wrap; width: 100px;'><div style='background-color: #000000'>🐇</div><div style='background-color: #000000'>🐦</div></div></div>\n",
       "        </div>\n",
       "        <div style='display: flex; flex-wrap: wrap; width: 100px;'></div>\n",
       "        <p>Current Player: Player 0</p>\n",
       "        <p>Phase: PIECE_SELECTION</p>\n",
       "        </div>"
      ],
      "text/plain": [
       "<will_citadel.Game at 0x1d9418bddd0>"
      ]
     },
     "execution_count": 6,
     "metadata": {},
     "output_type": "execute_result"
    }
   ],
   "source": [
    "player1.place_piece(player1.personal_stash.where(Bird)[0], Coordinate(0, 2))\n",
    "game"
   ]
  },
  {
   "cell_type": "code",
   "execution_count": 7,
   "metadata": {},
   "outputs": [],
   "source": [
    "player0knight = game.board[Coordinate(1, 0)].get_by_layer(Layer.PIECE)"
   ]
  },
  {
   "cell_type": "code",
   "execution_count": null,
   "metadata": {},
   "outputs": [
    {
     "data": {
      "text/html": [
       "<div>\n",
       "        <div style='display: flex; flex-wrap: wrap; width: 100px;'><div style='background-color: #000000'>🙎</div><div style='background-color: #000000'>🗡️</div><div style='background-color: #000000'>💣</div><div style='background-color: #000000'>🙎</div><div style='background-color: #000000'>🧙‍♂️</div><div style='background-color: #000000'>🗡️</div></div>\n",
       "        <div style='display: flex; flex-direction: row;'>\n",
       "            <div style='display: flex; flex-direction: column;'>Player 0<div style='display: flex; flex-wrap: wrap; width: 100px;'><div style='background-color: #000000'>🐢</div><div style='background-color: #000000'>♞</div></div></div>\n",
       "            <table><tr style='height: 36px;'><th></th><th>y0</th><th>y1</th><th>y2</th><th>y3</th><th>y4</th></tr><tr style='height: 36px;'><th>x0</th><td style='background-color: #fceecf; width: 18px; height 34px; border: 1px solid white; color: black; text-align: center;'>♞</td><td style='background-color: #fceecf; width: 18px; height 34px; border: 1px solid white; color: black; text-align: center;'> </td><td style='background-color: #fceecf; width: 18px; height 34px; border: 1px solid white; color: black; text-align: center;'>🐦</td><td style='background-color: #fceecf; width: 18px; height 34px; border: 1px solid white; color: black; text-align: center;'>⛃</td><td style='background-color: #87CEEB; width: 18px; height 34px; border: 1px solid white; color: black; text-align: center;'> </td></tr><tr style='height: 36px;'><th>x1</th><td style='background-color: #fceecf; width: 18px; height 34px; border: 1px solid white; color: black; text-align: center;'> </td><td style='background-color: #87CEEB; width: 18px; height 34px; border: 1px solid white; color: black; text-align: center;'> </td><td style='background-color: #fceecf; width: 18px; height 34px; border: 1px solid white; color: black; text-align: center;'> </td><td style='background-color: #87CEEB; width: 18px; height 34px; border: 1px solid white; color: black; text-align: center;'> </td><td style='background-color: #fceecf; width: 18px; height 34px; border: 1px solid white; color: black; text-align: center;'> </td></tr><tr style='height: 36px;'><th>x2</th><td style='background-color: #fceecf; width: 18px; height 34px; border: 1px solid white; color: black; text-align: center;'>⛃</td><td style='background-color: #fceecf; width: 18px; height 34px; border: 1px solid white; color: black; text-align: center;'> </td><td style='background-color: #fceecf; width: 18px; height 34px; border: 1px solid white; color: black; text-align: center;'> </td><td style='background-color: #87CEEB; width: 18px; height 34px; border: 1px solid white; color: black; text-align: center;'> </td><td style='background-color: #87CEEB; width: 18px; height 34px; border: 1px solid white; color: black; text-align: center;'> </td></tr></table>\n",
       "            <div style='display: flex; flex-direction: column;'>Player 1<div style='display: flex; flex-wrap: wrap; width: 100px;'><div style='background-color: #000000'>🐇</div><div style='background-color: #000000'>🐦</div></div></div>\n",
       "        </div>\n",
       "        <div style='display: flex; flex-wrap: wrap; width: 100px;'></div>\n",
       "        <p>Current Player: Player 1</p>\n",
       "        <p>Phase: PIECE_SELECTION</p>\n",
       "        </div>"
      ],
      "text/plain": [
       "<will_citadel.Game at 0x1d9418bddd0>"
      ]
     },
     "execution_count": 9,
     "metadata": {},
     "output_type": "execute_result"
    }
   ],
   "source": [
    "player0.move_piece(player0knight, Coordinate(0, 0))\n",
    "game"
   ]
  },
  {
   "cell_type": "code",
   "execution_count": 11,
   "metadata": {},
   "outputs": [],
   "source": [
    "player1bird = game.board.where(Bird, player1)[0]"
   ]
  },
  {
   "cell_type": "code",
   "execution_count": 12,
   "metadata": {},
   "outputs": [
    {
     "data": {
      "text/html": [
       "<div>\n",
       "        <div style='display: flex; flex-wrap: wrap; width: 100px;'><div style='background-color: #000000'>🙎</div><div style='background-color: #000000'>🗡️</div><div style='background-color: #000000'>💣</div><div style='background-color: #000000'>🙎</div><div style='background-color: #000000'>🧙‍♂️</div><div style='background-color: #000000'>🗡️</div></div>\n",
       "        <div style='display: flex; flex-direction: row;'>\n",
       "            <div style='display: flex; flex-direction: column;'>Player 0<div style='display: flex; flex-wrap: wrap; width: 100px;'><div style='background-color: #000000'>🐢</div><div style='background-color: #000000'>♞</div></div></div>\n",
       "            <table><tr style='height: 36px;'><th></th><th>y0</th><th>y1</th><th>y2</th><th>y3</th><th>y4</th></tr><tr style='height: 36px;'><th>x0</th><td style='background-color: #fceecf; width: 18px; height 34px; border: 1px solid white; color: black; text-align: center;'>♞</td><td style='background-color: #fceecf; width: 18px; height 34px; border: 1px solid white; color: black; text-align: center;'> </td><td style='background-color: #fceecf; width: 18px; height 34px; border: 1px solid white; color: black; text-align: center;'> </td><td style='background-color: #fceecf; width: 18px; height 34px; border: 1px solid white; color: black; text-align: center;'>⛃</td><td style='background-color: #87CEEB; width: 18px; height 34px; border: 1px solid white; color: black; text-align: center;'> </td></tr><tr style='height: 36px;'><th>x1</th><td style='background-color: #fceecf; width: 18px; height 34px; border: 1px solid white; color: black; text-align: center;'> </td><td style='background-color: #87CEEB; width: 18px; height 34px; border: 1px solid white; color: black; text-align: center;'> </td><td style='background-color: #fceecf; width: 18px; height 34px; border: 1px solid white; color: black; text-align: center;'> </td><td style='background-color: #87CEEB; width: 18px; height 34px; border: 1px solid white; color: black; text-align: center;'> </td><td style='background-color: #fceecf; width: 18px; height 34px; border: 1px solid white; color: black; text-align: center;'> </td></tr><tr style='height: 36px;'><th>x2</th><td style='background-color: #fceecf; width: 18px; height 34px; border: 1px solid white; color: black; text-align: center;'>⛃</td><td style='background-color: #fceecf; width: 18px; height 34px; border: 1px solid white; color: black; text-align: center;'> </td><td style='background-color: #fceecf; width: 18px; height 34px; border: 1px solid white; color: black; text-align: center;'>🐦</td><td style='background-color: #87CEEB; width: 18px; height 34px; border: 1px solid white; color: black; text-align: center;'> </td><td style='background-color: #87CEEB; width: 18px; height 34px; border: 1px solid white; color: black; text-align: center;'> </td></tr></table>\n",
       "            <div style='display: flex; flex-direction: column;'>Player 1<div style='display: flex; flex-wrap: wrap; width: 100px;'><div style='background-color: #000000'>🐇</div><div style='background-color: #000000'>🐦</div></div></div>\n",
       "        </div>\n",
       "        <div style='display: flex; flex-wrap: wrap; width: 100px;'></div>\n",
       "        <p>Current Player: Player 0</p>\n",
       "        <p>Phase: PIECE_SELECTION</p>\n",
       "        </div>"
      ],
      "text/plain": [
       "<will_citadel.Game at 0x1d9418bddd0>"
      ]
     },
     "execution_count": 12,
     "metadata": {},
     "output_type": "execute_result"
    }
   ],
   "source": [
    "player1.move_piece(player1bird, Coordinate(2, 2))\n",
    "game"
   ]
  },
  {
   "cell_type": "code",
   "execution_count": null,
   "metadata": {},
   "outputs": [],
   "source": []
  }
 ],
 "metadata": {
  "kernelspec": {
   "display_name": ".venv",
   "language": "python",
   "name": "python3"
  },
  "language_info": {
   "codemirror_mode": {
    "name": "ipython",
    "version": 3
   },
   "file_extension": ".py",
   "mimetype": "text/x-python",
   "name": "python",
   "nbconvert_exporter": "python",
   "pygments_lexer": "ipython3",
   "version": "3.11.4"
  }
 },
 "nbformat": 4,
 "nbformat_minor": 2
}
