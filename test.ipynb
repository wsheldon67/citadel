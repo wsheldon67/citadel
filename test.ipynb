{
 "cells": [
  {
   "cell_type": "code",
   "execution_count": 1,
   "metadata": {},
   "outputs": [],
   "source": [
    "from will_citadel import *\n",
    "from will_citadel_test import ExampleGame\n",
    "\n",
    "import json"
   ]
  },
  {
   "cell_type": "code",
   "execution_count": 2,
   "metadata": {},
   "outputs": [],
   "source": [
    "game = ExampleGame().setup_full_game()\n",
    "player0, player1 = game.players"
   ]
  },
  {
   "cell_type": "code",
   "execution_count": 3,
   "metadata": {},
   "outputs": [
    {
     "data": {
      "text/html": [
       "<div>\n",
       "        <div style='display: flex; flex-wrap: wrap; width: 100px;'><div style='background-color: #000000; font-size: 1.5rem;'>🙎</div><div style='background-color: #000000; font-size: 1.5rem;'>🗡️</div><div style='background-color: #000000; font-size: 1.5rem;'>💣</div><div style='background-color: #000000; font-size: 1.5rem;'>🙎</div><div style='background-color: #000000; font-size: 1.5rem;'>🧙‍♂️</div><div style='background-color: #000000; font-size: 1.5rem;'>🗡️</div></div>\n",
       "        <div style='display: flex; flex-direction: row;'>\n",
       "            <div style='display: flex; flex-direction: column;'>Player 0<div style='display: flex; flex-wrap: wrap; width: 100px;'><div style='background-color: #000000; font-size: 1.5rem;'>🐢</div><div style='background-color: #000000; font-size: 1.5rem;'>♞</div></div></div>\n",
       "            <table style='table-layout: fixed;'><tr style='height: 36px;'><th></th><th>y0</th><th>y1</th><th>y2</th><th>y3</th><th>y4</th></tr><tr style='height: 60px;'><th>x0</th><td style='background-color: #fceecf; transform: rotate(0deg); width: 58px; height 58px; border: 1px solid white; color: black; text-align: center; font-size: 1.5rem; padding: 0; margin: 0;'> </td><td style='background-color: #fceecf; transform: rotate(0deg); width: 58px; height 58px; border: 1px solid white; color: black; text-align: center; font-size: 1.5rem; padding: 0; margin: 0;'> </td><td style='background-color: #fceecf; transform: rotate(270deg); width: 58px; height 58px; border: 1px solid white; color: black; text-align: center; font-size: 1.5rem; padding: 0; margin: 0;'>🐦</td><td style='background-color: #fceecf; transform: rotate(270deg); width: 58px; height 58px; border: 1px solid white; color: black; text-align: center; font-size: 1.5rem; padding: 0; margin: 0;'>⛃</td><td style='background-color: #87CEEB; transform: rotate(0deg); width: 58px; height 58px; border: 1px solid white; color: black; text-align: center; font-size: 1.5rem; padding: 0; margin: 0;'> </td></tr><tr style='height: 60px;'><th>x1</th><td style='background-color: #fceecf; transform: rotate(90deg); width: 58px; height 58px; border: 1px solid white; color: black; text-align: center; font-size: 1.5rem; padding: 0; margin: 0;'>♞</td><td style='background-color: #87CEEB; transform: rotate(0deg); width: 58px; height 58px; border: 1px solid white; color: black; text-align: center; font-size: 1.5rem; padding: 0; margin: 0;'> </td><td style='background-color: #fceecf; transform: rotate(0deg); width: 58px; height 58px; border: 1px solid white; color: black; text-align: center; font-size: 1.5rem; padding: 0; margin: 0;'> </td><td style='background-color: #87CEEB; transform: rotate(0deg); width: 58px; height 58px; border: 1px solid white; color: black; text-align: center; font-size: 1.5rem; padding: 0; margin: 0;'> </td><td style='background-color: #fceecf; transform: rotate(0deg); width: 58px; height 58px; border: 1px solid white; color: black; text-align: center; font-size: 1.5rem; padding: 0; margin: 0;'> </td></tr><tr style='height: 60px;'><th>x2</th><td style='background-color: #fceecf; transform: rotate(90deg); width: 58px; height 58px; border: 1px solid white; color: black; text-align: center; font-size: 1.5rem; padding: 0; margin: 0;'>⛃</td><td style='background-color: #fceecf; transform: rotate(0deg); width: 58px; height 58px; border: 1px solid white; color: black; text-align: center; font-size: 1.5rem; padding: 0; margin: 0;'> </td><td style='background-color: #fceecf; transform: rotate(0deg); width: 58px; height 58px; border: 1px solid white; color: black; text-align: center; font-size: 1.5rem; padding: 0; margin: 0;'> </td><td style='background-color: #87CEEB; transform: rotate(0deg); width: 58px; height 58px; border: 1px solid white; color: black; text-align: center; font-size: 1.5rem; padding: 0; margin: 0;'> </td><td style='background-color: #87CEEB; transform: rotate(0deg); width: 58px; height 58px; border: 1px solid white; color: black; text-align: center; font-size: 1.5rem; padding: 0; margin: 0;'> </td></tr></table>\n",
       "            <div style='display: flex; flex-direction: column;'>Player 1<div style='display: flex; flex-wrap: wrap; width: 100px;'><div style='background-color: #000000; font-size: 1.5rem;'>🐇</div><div style='background-color: #000000; font-size: 1.5rem;'>🐦</div></div></div>\n",
       "        </div>\n",
       "        <div style='display: flex; flex-wrap: wrap; width: 100px;'></div>\n",
       "        <p>Current Player: Player 0</p>\n",
       "        <p>Phase: PIECE_SELECTION</p>\n",
       "        </div>"
      ],
      "text/plain": [
       "<will_citadel.Game at 0x2654b26c090>"
      ]
     },
     "execution_count": 3,
     "metadata": {},
     "output_type": "execute_result"
    }
   ],
   "source": [
    "game"
   ]
  },
  {
   "cell_type": "code",
   "execution_count": 4,
   "metadata": {},
   "outputs": [
    {
     "data": {
      "text/html": [
       "<div>\n",
       "        <div style='display: flex; flex-wrap: wrap; width: 100px;'><div style='background-color: #000000; font-size: 1.5rem;'>🙎</div><div style='background-color: #000000; font-size: 1.5rem;'>🗡️</div><div style='background-color: #000000; font-size: 1.5rem;'>💣</div><div style='background-color: #000000; font-size: 1.5rem;'>🙎</div><div style='background-color: #000000; font-size: 1.5rem;'>🧙‍♂️</div><div style='background-color: #000000; font-size: 1.5rem;'>🗡️</div></div>\n",
       "        <div style='display: flex; flex-direction: row;'>\n",
       "            <div style='display: flex; flex-direction: column;'>Player 0<div style='display: flex; flex-wrap: wrap; width: 100px;'><div style='background-color: #000000; font-size: 1.5rem;'>🐢</div><div style='background-color: #000000; font-size: 1.5rem;'>♞</div></div></div>\n",
       "            <table style='table-layout: fixed;'><tr style='height: 36px;'><th></th><th>y0</th><th>y1</th><th>y2</th><th>y3</th><th>y4</th></tr><tr style='height: 60px;'><th>x0</th><td style='background-color: #fceecf; transform: rotate(90deg); width: 58px; height 58px; border: 1px solid white; color: black; text-align: center; font-size: 1.5rem; padding: 0; margin: 0;'>♞</td><td style='background-color: #fceecf; transform: rotate(0deg); width: 58px; height 58px; border: 1px solid white; color: black; text-align: center; font-size: 1.5rem; padding: 0; margin: 0;'> </td><td style='background-color: #fceecf; transform: rotate(270deg); width: 58px; height 58px; border: 1px solid white; color: black; text-align: center; font-size: 1.5rem; padding: 0; margin: 0;'>🐦</td><td style='background-color: #fceecf; transform: rotate(270deg); width: 58px; height 58px; border: 1px solid white; color: black; text-align: center; font-size: 1.5rem; padding: 0; margin: 0;'>⛃</td><td style='background-color: #87CEEB; transform: rotate(0deg); width: 58px; height 58px; border: 1px solid white; color: black; text-align: center; font-size: 1.5rem; padding: 0; margin: 0;'> </td></tr><tr style='height: 60px;'><th>x1</th><td style='background-color: #fceecf; transform: rotate(0deg); width: 58px; height 58px; border: 1px solid white; color: black; text-align: center; font-size: 1.5rem; padding: 0; margin: 0;'> </td><td style='background-color: #87CEEB; transform: rotate(0deg); width: 58px; height 58px; border: 1px solid white; color: black; text-align: center; font-size: 1.5rem; padding: 0; margin: 0;'> </td><td style='background-color: #fceecf; transform: rotate(0deg); width: 58px; height 58px; border: 1px solid white; color: black; text-align: center; font-size: 1.5rem; padding: 0; margin: 0;'> </td><td style='background-color: #87CEEB; transform: rotate(0deg); width: 58px; height 58px; border: 1px solid white; color: black; text-align: center; font-size: 1.5rem; padding: 0; margin: 0;'> </td><td style='background-color: #fceecf; transform: rotate(0deg); width: 58px; height 58px; border: 1px solid white; color: black; text-align: center; font-size: 1.5rem; padding: 0; margin: 0;'> </td></tr><tr style='height: 60px;'><th>x2</th><td style='background-color: #fceecf; transform: rotate(90deg); width: 58px; height 58px; border: 1px solid white; color: black; text-align: center; font-size: 1.5rem; padding: 0; margin: 0;'>⛃</td><td style='background-color: #fceecf; transform: rotate(0deg); width: 58px; height 58px; border: 1px solid white; color: black; text-align: center; font-size: 1.5rem; padding: 0; margin: 0;'> </td><td style='background-color: #fceecf; transform: rotate(0deg); width: 58px; height 58px; border: 1px solid white; color: black; text-align: center; font-size: 1.5rem; padding: 0; margin: 0;'> </td><td style='background-color: #87CEEB; transform: rotate(0deg); width: 58px; height 58px; border: 1px solid white; color: black; text-align: center; font-size: 1.5rem; padding: 0; margin: 0;'> </td><td style='background-color: #87CEEB; transform: rotate(0deg); width: 58px; height 58px; border: 1px solid white; color: black; text-align: center; font-size: 1.5rem; padding: 0; margin: 0;'> </td></tr></table>\n",
       "            <div style='display: flex; flex-direction: column;'>Player 1<div style='display: flex; flex-wrap: wrap; width: 100px;'><div style='background-color: #000000; font-size: 1.5rem;'>🐇</div><div style='background-color: #000000; font-size: 1.5rem;'>🐦</div></div></div>\n",
       "        </div>\n",
       "        <div style='display: flex; flex-wrap: wrap; width: 100px;'></div>\n",
       "        <p>Current Player: Player 0</p>\n",
       "        <p>Phase: PIECE_SELECTION</p>\n",
       "        </div>"
      ],
      "text/plain": [
       "<will_citadel.Game at 0x2654b26c090>"
      ]
     },
     "execution_count": 4,
     "metadata": {},
     "output_type": "execute_result"
    }
   ],
   "source": [
    "player0.move(Coordinate(1, 0), Coordinate(0, 0))\n",
    "game"
   ]
  },
  {
   "cell_type": "code",
   "execution_count": 5,
   "metadata": {},
   "outputs": [],
   "source": [
    "piece = game.board.where(Piece)[0]"
   ]
  },
  {
   "cell_type": "code",
   "execution_count": 6,
   "metadata": {},
   "outputs": [
    {
     "data": {
      "text/plain": [
       "164629732141"
      ]
     },
     "execution_count": 6,
     "metadata": {},
     "output_type": "execute_result"
    }
   ],
   "source": [
    "piece.__hash__()"
   ]
  },
  {
   "cell_type": "code",
   "execution_count": 7,
   "metadata": {},
   "outputs": [],
   "source": [
    "save_file = json.dumps(game.to_json(), indent=4)"
   ]
  },
  {
   "cell_type": "code",
   "execution_count": 8,
   "metadata": {},
   "outputs": [
    {
     "data": {
      "text/plain": [
       "[{'name': 'Player 0',\n",
       "  'personal_stash': {'name': \"Player 0's Personal Stash\",\n",
       "   'entities': [{'type': 'Turtle',\n",
       "     'created_by': 'Player 0',\n",
       "     'owner': 'Player 0'},\n",
       "    {'type': 'Knight', 'created_by': 'Player 0', 'owner': 'Player 0'}]},\n",
       "  'rotation': 90},\n",
       " {'name': 'Player 1',\n",
       "  'personal_stash': {'name': \"Player 1's Personal Stash\",\n",
       "   'entities': [{'type': 'Rabbit',\n",
       "     'created_by': 'Player 1',\n",
       "     'owner': 'Player 1'},\n",
       "    {'type': 'Bird', 'created_by': 'Player 1', 'owner': 'Player 1'}]},\n",
       "  'rotation': 270}]"
      ]
     },
     "execution_count": 8,
     "metadata": {},
     "output_type": "execute_result"
    }
   ],
   "source": [
    "game.to_json()['players']"
   ]
  },
  {
   "cell_type": "code",
   "execution_count": 11,
   "metadata": {},
   "outputs": [
    {
     "ename": "IndexError",
     "evalue": "list index out of range",
     "output_type": "error",
     "traceback": [
      "\u001b[31m---------------------------------------------------------------------------\u001b[39m",
      "\u001b[31mIndexError\u001b[39m                                Traceback (most recent call last)",
      "\u001b[36mCell\u001b[39m\u001b[36m \u001b[39m\u001b[32mIn[11]\u001b[39m\u001b[32m, line 1\u001b[39m\n\u001b[32m----> \u001b[39m\u001b[32m1\u001b[39m \u001b[43m[\u001b[49m\u001b[43m]\u001b[49m\u001b[43m[\u001b[49m\u001b[43m-\u001b[49m\u001b[32;43m1\u001b[39;49m\u001b[43m]\u001b[49m\n",
      "\u001b[31mIndexError\u001b[39m: list index out of range"
     ]
    }
   ],
   "source": [
    "[][-1]"
   ]
  },
  {
   "cell_type": "code",
   "execution_count": 9,
   "metadata": {},
   "outputs": [
    {
     "data": {
      "text/plain": [
       "'0,0'"
      ]
     },
     "execution_count": 9,
     "metadata": {},
     "output_type": "execute_result"
    }
   ],
   "source": [
    "Coordinate(0, 0).to_json()"
   ]
  },
  {
   "cell_type": "code",
   "execution_count": 10,
   "metadata": {},
   "outputs": [
    {
     "ename": "TypeError",
     "evalue": "Tile.__init__() got an unexpected keyword argument 'name'",
     "output_type": "error",
     "traceback": [
      "\u001b[31m---------------------------------------------------------------------------\u001b[39m",
      "\u001b[31mTypeError\u001b[39m                                 Traceback (most recent call last)",
      "\u001b[36mCell\u001b[39m\u001b[36m \u001b[39m\u001b[32mIn[10]\u001b[39m\u001b[32m, line 1\u001b[39m\n\u001b[32m----> \u001b[39m\u001b[32m1\u001b[39m \u001b[43mGame\u001b[49m\u001b[43m.\u001b[49m\u001b[43mfrom_json\u001b[49m\u001b[43m(\u001b[49m\u001b[43mjson\u001b[49m\u001b[43m.\u001b[49m\u001b[43mloads\u001b[49m\u001b[43m(\u001b[49m\u001b[43msave_file\u001b[49m\u001b[43m)\u001b[49m\u001b[43m)\u001b[49m\n",
      "\u001b[36mFile \u001b[39m\u001b[32mc:\\Programming\\citadel\\will_citadel.py:219\u001b[39m, in \u001b[36mGame.from_json\u001b[39m\u001b[34m(cls, json_data)\u001b[39m\n\u001b[32m    212\u001b[39m game = \u001b[38;5;28mcls\u001b[39m(\n\u001b[32m    213\u001b[39m     \u001b[38;5;28mlen\u001b[39m(json_data[\u001b[33m'\u001b[39m\u001b[33mplayers\u001b[39m\u001b[33m'\u001b[39m]),\n\u001b[32m    214\u001b[39m     json_data[\u001b[33m'\u001b[39m\u001b[33mlands_per_player\u001b[39m\u001b[33m'\u001b[39m],\n\u001b[32m    215\u001b[39m     json_data[\u001b[33m'\u001b[39m\u001b[33mpersonal_pieces_per_player\u001b[39m\u001b[33m'\u001b[39m],\n\u001b[32m    216\u001b[39m     json_data[\u001b[33m'\u001b[39m\u001b[33mcommunity_pieces_per_player\u001b[39m\u001b[33m'\u001b[39m],\n\u001b[32m    217\u001b[39m     )\n\u001b[32m    218\u001b[39m game.players = [Player.from_json(player_data, game) \u001b[38;5;28;01mfor\u001b[39;00m player_data \u001b[38;5;129;01min\u001b[39;00m json_data[\u001b[33m'\u001b[39m\u001b[33mplayers\u001b[39m\u001b[33m'\u001b[39m]]\n\u001b[32m--> \u001b[39m\u001b[32m219\u001b[39m game.board = \u001b[43mBoard\u001b[49m\u001b[43m.\u001b[49m\u001b[43mfrom_json\u001b[49m\u001b[43m(\u001b[49m\u001b[43mjson_data\u001b[49m\u001b[43m[\u001b[49m\u001b[33;43m'\u001b[39;49m\u001b[33;43mboard\u001b[39;49m\u001b[33;43m'\u001b[39;49m\u001b[43m]\u001b[49m\u001b[43m,\u001b[49m\u001b[43m \u001b[49m\u001b[43mgame\u001b[49m\u001b[43m)\u001b[49m\n\u001b[32m    220\u001b[39m game.turn = json_data[\u001b[33m'\u001b[39m\u001b[33mturn\u001b[39m\u001b[33m'\u001b[39m]\n\u001b[32m    221\u001b[39m game.community_pool = EntityList.from_json(json_data[\u001b[33m'\u001b[39m\u001b[33mcommunity_pool\u001b[39m\u001b[33m'\u001b[39m], game)\n",
      "\u001b[36mFile \u001b[39m\u001b[32mc:\\Programming\\citadel\\will_citadel.py:672\u001b[39m, in \u001b[36mBoard.from_json\u001b[39m\u001b[34m(cls, json_data, game)\u001b[39m\n\u001b[32m    670\u001b[39m \u001b[38;5;28;01mfor\u001b[39;00m coordinate, tile_data \u001b[38;5;129;01min\u001b[39;00m json_data[\u001b[33m'\u001b[39m\u001b[33mtiles\u001b[39m\u001b[33m'\u001b[39m].items():\n\u001b[32m    671\u001b[39m     coordinate = Coordinate.from_json(coordinate)\n\u001b[32m--> \u001b[39m\u001b[32m672\u001b[39m     tile:Tile = \u001b[43mTile\u001b[49m\u001b[43m.\u001b[49m\u001b[43mfrom_json\u001b[49m\u001b[43m(\u001b[49m\u001b[43mtile_data\u001b[49m\u001b[43m,\u001b[49m\u001b[43m \u001b[49m\u001b[43mboard\u001b[49m\u001b[43m)\u001b[49m\n\u001b[32m    673\u001b[39m     tile.coordinate = coordinate\n\u001b[32m    674\u001b[39m     board[coordinate] = tile\n",
      "\u001b[36mFile \u001b[39m\u001b[32mc:\\Programming\\citadel\\will_citadel.py:978\u001b[39m, in \u001b[36mEntityList.from_json\u001b[39m\u001b[34m(cls, json_data, game)\u001b[39m\n\u001b[32m    970\u001b[39m \u001b[38;5;129m@classmethod\u001b[39m\n\u001b[32m    971\u001b[39m \u001b[38;5;28;01mdef\u001b[39;00m\u001b[38;5;250m \u001b[39m\u001b[34mfrom_json\u001b[39m(\u001b[38;5;28mcls\u001b[39m, json_data:EntityListJson, game:Game) -> \u001b[33m'\u001b[39m\u001b[33mEntityList\u001b[39m\u001b[33m'\u001b[39m:\n\u001b[32m    972\u001b[39m \u001b[38;5;250m    \u001b[39m\u001b[33;03m'''Load the entity list from JSON.\u001b[39;00m\n\u001b[32m    973\u001b[39m \n\u001b[32m    974\u001b[39m \u001b[33;03m    Args:\u001b[39;00m\n\u001b[32m    975\u001b[39m \u001b[33;03m        json_data: The JSON data to load.\u001b[39;00m\n\u001b[32m    976\u001b[39m \u001b[33;03m        game: The game this entity list is in.\u001b[39;00m\n\u001b[32m    977\u001b[39m \u001b[33;03m    '''\u001b[39;00m\n\u001b[32m--> \u001b[39m\u001b[32m978\u001b[39m     \u001b[38;5;28mself\u001b[39m = \u001b[38;5;28;43mcls\u001b[39;49m\u001b[43m(\u001b[49m\u001b[43mgame\u001b[49m\u001b[43m,\u001b[49m\u001b[43m \u001b[49m\u001b[43mname\u001b[49m\u001b[43m=\u001b[49m\u001b[43mjson_data\u001b[49m\u001b[43m[\u001b[49m\u001b[33;43m'\u001b[39;49m\u001b[33;43mname\u001b[39;49m\u001b[33;43m'\u001b[39;49m\u001b[43m]\u001b[49m\u001b[43m)\u001b[49m\n\u001b[32m    979\u001b[39m     entities = []\n\u001b[32m    980\u001b[39m     \u001b[38;5;28;01mfor\u001b[39;00m entity_data \u001b[38;5;129;01min\u001b[39;00m json_data[\u001b[33m'\u001b[39m\u001b[33mentities\u001b[39m\u001b[33m'\u001b[39m]:\n",
      "\u001b[31mTypeError\u001b[39m: Tile.__init__() got an unexpected keyword argument 'name'"
     ]
    }
   ],
   "source": [
    "Game.from_json(json.loads(save_file))"
   ]
  },
  {
   "cell_type": "code",
   "execution_count": null,
   "metadata": {},
   "outputs": [],
   "source": []
  }
 ],
 "metadata": {
  "kernelspec": {
   "display_name": ".venv",
   "language": "python",
   "name": "python3"
  },
  "language_info": {
   "codemirror_mode": {
    "name": "ipython",
    "version": 3
   },
   "file_extension": ".py",
   "mimetype": "text/x-python",
   "name": "python",
   "nbconvert_exporter": "python",
   "pygments_lexer": "ipython3",
   "version": "3.11.4"
  }
 },
 "nbformat": 4,
 "nbformat_minor": 2
}
