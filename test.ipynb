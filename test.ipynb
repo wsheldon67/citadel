{
 "cells": [
  {
   "cell_type": "code",
   "execution_count": null,
   "metadata": {},
   "outputs": [],
   "source": [
    "from citadel import *\n",
    "from citadel_test import ExampleGame\n",
    "\n",
    "import json"
   ]
  },
  {
   "cell_type": "code",
   "execution_count": 2,
   "metadata": {},
   "outputs": [],
   "source": [
    "game = ExampleGame().setup_full_game()\n",
    "player0, player1 = game.players"
   ]
  },
  {
   "cell_type": "code",
   "execution_count": 3,
   "metadata": {},
   "outputs": [
    {
     "data": {
      "text/html": [
       "<div>\n",
       "        <div style='display: flex; flex-wrap: wrap; width: 100px;'><div style='background-color: #000000; font-size: 1.5rem;'>🙎</div><div style='background-color: #000000; font-size: 1.5rem;'>🗡️</div><div style='background-color: #000000; font-size: 1.5rem;'>💣</div><div style='background-color: #000000; font-size: 1.5rem;'>🙎</div><div style='background-color: #000000; font-size: 1.5rem;'>🧙‍♂️</div><div style='background-color: #000000; font-size: 1.5rem;'>🗡️</div></div>\n",
       "        <div style='display: flex; flex-direction: row;'>\n",
       "            <div style='display: flex; flex-direction: column;'>Player 0<div style='display: flex; flex-wrap: wrap; width: 100px;'><div style='background-color: #000000; font-size: 1.5rem;'>🐢</div><div style='background-color: #000000; font-size: 1.5rem;'>♞</div></div></div>\n",
       "            <table style='table-layout: fixed;'><tr style='height: 36px;'><th></th><th>y0</th><th>y1</th><th>y2</th><th>y3</th><th>y4</th></tr><tr style='height: 60px;'><th>x0</th><td style='background-color: #fceecf; transform: rotate(0deg); width: 58px; height 58px; border: 1px solid white; color: black; text-align: center; font-size: 1.5rem; padding: 0; margin: 0;'> </td><td style='background-color: #fceecf; transform: rotate(0deg); width: 58px; height 58px; border: 1px solid white; color: black; text-align: center; font-size: 1.5rem; padding: 0; margin: 0;'> </td><td style='background-color: #fceecf; transform: rotate(270deg); width: 58px; height 58px; border: 1px solid white; color: black; text-align: center; font-size: 1.5rem; padding: 0; margin: 0;'>🐦</td><td style='background-color: #fceecf; transform: rotate(270deg); width: 58px; height 58px; border: 1px solid white; color: black; text-align: center; font-size: 1.5rem; padding: 0; margin: 0;'>⛃</td><td style='background-color: #87CEEB; transform: rotate(0deg); width: 58px; height 58px; border: 1px solid white; color: black; text-align: center; font-size: 1.5rem; padding: 0; margin: 0;'> </td></tr><tr style='height: 60px;'><th>x1</th><td style='background-color: #fceecf; transform: rotate(90deg); width: 58px; height 58px; border: 1px solid white; color: black; text-align: center; font-size: 1.5rem; padding: 0; margin: 0;'>♞</td><td style='background-color: #87CEEB; transform: rotate(0deg); width: 58px; height 58px; border: 1px solid white; color: black; text-align: center; font-size: 1.5rem; padding: 0; margin: 0;'> </td><td style='background-color: #fceecf; transform: rotate(0deg); width: 58px; height 58px; border: 1px solid white; color: black; text-align: center; font-size: 1.5rem; padding: 0; margin: 0;'> </td><td style='background-color: #87CEEB; transform: rotate(0deg); width: 58px; height 58px; border: 1px solid white; color: black; text-align: center; font-size: 1.5rem; padding: 0; margin: 0;'> </td><td style='background-color: #fceecf; transform: rotate(0deg); width: 58px; height 58px; border: 1px solid white; color: black; text-align: center; font-size: 1.5rem; padding: 0; margin: 0;'> </td></tr><tr style='height: 60px;'><th>x2</th><td style='background-color: #fceecf; transform: rotate(90deg); width: 58px; height 58px; border: 1px solid white; color: black; text-align: center; font-size: 1.5rem; padding: 0; margin: 0;'>⛃</td><td style='background-color: #fceecf; transform: rotate(0deg); width: 58px; height 58px; border: 1px solid white; color: black; text-align: center; font-size: 1.5rem; padding: 0; margin: 0;'> </td><td style='background-color: #fceecf; transform: rotate(0deg); width: 58px; height 58px; border: 1px solid white; color: black; text-align: center; font-size: 1.5rem; padding: 0; margin: 0;'> </td><td style='background-color: #87CEEB; transform: rotate(0deg); width: 58px; height 58px; border: 1px solid white; color: black; text-align: center; font-size: 1.5rem; padding: 0; margin: 0;'> </td><td style='background-color: #87CEEB; transform: rotate(0deg); width: 58px; height 58px; border: 1px solid white; color: black; text-align: center; font-size: 1.5rem; padding: 0; margin: 0;'> </td></tr></table>\n",
       "            <div style='display: flex; flex-direction: column;'>Player 1<div style='display: flex; flex-wrap: wrap; width: 100px;'><div style='background-color: #000000; font-size: 1.5rem;'>🐇</div><div style='background-color: #000000; font-size: 1.5rem;'>🐦</div></div></div>\n",
       "        </div>\n",
       "        <div style='display: flex; flex-wrap: wrap; width: 100px;'></div>\n",
       "        <p>Current Player: Player 0</p>\n",
       "        <p>Phase: PIECE_SELECTION</p>\n",
       "        </div>"
      ],
      "text/plain": [
       "<will_citadel.Game at 0x19770f83210>"
      ]
     },
     "execution_count": 3,
     "metadata": {},
     "output_type": "execute_result"
    }
   ],
   "source": [
    "game"
   ]
  },
  {
   "cell_type": "code",
   "execution_count": 4,
   "metadata": {},
   "outputs": [
    {
     "data": {
      "text/html": [
       "<div>\n",
       "        <div style='display: flex; flex-wrap: wrap; width: 100px;'><div style='background-color: #000000; font-size: 1.5rem;'>🙎</div><div style='background-color: #000000; font-size: 1.5rem;'>🗡️</div><div style='background-color: #000000; font-size: 1.5rem;'>💣</div><div style='background-color: #000000; font-size: 1.5rem;'>🙎</div><div style='background-color: #000000; font-size: 1.5rem;'>🧙‍♂️</div><div style='background-color: #000000; font-size: 1.5rem;'>🗡️</div></div>\n",
       "        <div style='display: flex; flex-direction: row;'>\n",
       "            <div style='display: flex; flex-direction: column;'>Player 0<div style='display: flex; flex-wrap: wrap; width: 100px;'><div style='background-color: #000000; font-size: 1.5rem;'>🐢</div><div style='background-color: #000000; font-size: 1.5rem;'>♞</div></div></div>\n",
       "            <table style='table-layout: fixed;'><tr style='height: 36px;'><th></th><th>y0</th><th>y1</th><th>y2</th><th>y3</th><th>y4</th></tr><tr style='height: 60px;'><th>x0</th><td style='background-color: #fceecf; transform: rotate(90deg); width: 58px; height 58px; border: 1px solid white; color: black; text-align: center; font-size: 1.5rem; padding: 0; margin: 0;'>♞</td><td style='background-color: #fceecf; transform: rotate(0deg); width: 58px; height 58px; border: 1px solid white; color: black; text-align: center; font-size: 1.5rem; padding: 0; margin: 0;'> </td><td style='background-color: #fceecf; transform: rotate(270deg); width: 58px; height 58px; border: 1px solid white; color: black; text-align: center; font-size: 1.5rem; padding: 0; margin: 0;'>🐦</td><td style='background-color: #fceecf; transform: rotate(270deg); width: 58px; height 58px; border: 1px solid white; color: black; text-align: center; font-size: 1.5rem; padding: 0; margin: 0;'>⛃</td><td style='background-color: #87CEEB; transform: rotate(0deg); width: 58px; height 58px; border: 1px solid white; color: black; text-align: center; font-size: 1.5rem; padding: 0; margin: 0;'> </td></tr><tr style='height: 60px;'><th>x1</th><td style='background-color: #fceecf; transform: rotate(0deg); width: 58px; height 58px; border: 1px solid white; color: black; text-align: center; font-size: 1.5rem; padding: 0; margin: 0;'> </td><td style='background-color: #87CEEB; transform: rotate(0deg); width: 58px; height 58px; border: 1px solid white; color: black; text-align: center; font-size: 1.5rem; padding: 0; margin: 0;'> </td><td style='background-color: #fceecf; transform: rotate(0deg); width: 58px; height 58px; border: 1px solid white; color: black; text-align: center; font-size: 1.5rem; padding: 0; margin: 0;'> </td><td style='background-color: #87CEEB; transform: rotate(0deg); width: 58px; height 58px; border: 1px solid white; color: black; text-align: center; font-size: 1.5rem; padding: 0; margin: 0;'> </td><td style='background-color: #fceecf; transform: rotate(0deg); width: 58px; height 58px; border: 1px solid white; color: black; text-align: center; font-size: 1.5rem; padding: 0; margin: 0;'> </td></tr><tr style='height: 60px;'><th>x2</th><td style='background-color: #fceecf; transform: rotate(90deg); width: 58px; height 58px; border: 1px solid white; color: black; text-align: center; font-size: 1.5rem; padding: 0; margin: 0;'>⛃</td><td style='background-color: #fceecf; transform: rotate(0deg); width: 58px; height 58px; border: 1px solid white; color: black; text-align: center; font-size: 1.5rem; padding: 0; margin: 0;'> </td><td style='background-color: #fceecf; transform: rotate(0deg); width: 58px; height 58px; border: 1px solid white; color: black; text-align: center; font-size: 1.5rem; padding: 0; margin: 0;'> </td><td style='background-color: #87CEEB; transform: rotate(0deg); width: 58px; height 58px; border: 1px solid white; color: black; text-align: center; font-size: 1.5rem; padding: 0; margin: 0;'> </td><td style='background-color: #87CEEB; transform: rotate(0deg); width: 58px; height 58px; border: 1px solid white; color: black; text-align: center; font-size: 1.5rem; padding: 0; margin: 0;'> </td></tr></table>\n",
       "            <div style='display: flex; flex-direction: column;'>Player 1<div style='display: flex; flex-wrap: wrap; width: 100px;'><div style='background-color: #000000; font-size: 1.5rem;'>🐇</div><div style='background-color: #000000; font-size: 1.5rem;'>🐦</div></div></div>\n",
       "        </div>\n",
       "        <div style='display: flex; flex-wrap: wrap; width: 100px;'></div>\n",
       "        <p>Current Player: Player 0</p>\n",
       "        <p>Phase: PIECE_SELECTION</p>\n",
       "        </div>"
      ],
      "text/plain": [
       "<will_citadel.Game at 0x19770f83210>"
      ]
     },
     "execution_count": 4,
     "metadata": {},
     "output_type": "execute_result"
    }
   ],
   "source": [
    "player0.move(Coordinate(1, 0), Coordinate(0, 0))\n",
    "game"
   ]
  },
  {
   "cell_type": "code",
   "execution_count": 10,
   "metadata": {},
   "outputs": [],
   "source": [
    "knight = game.board.where(Knight)[0]"
   ]
  },
  {
   "cell_type": "code",
   "execution_count": null,
   "metadata": {},
   "outputs": [
    {
     "data": {
      "text/plain": [
       "[EntityList:main(0, 1)(Land(main(0, 1))(Player 1)),\n",
       " EntityList:main(1, 0)(Land(main(1, 0))(Player 0))]"
      ]
     },
     "execution_count": 11,
     "metadata": {},
     "output_type": "execute_result"
    },
    {
     "ename": "",
     "evalue": "",
     "output_type": "error",
     "traceback": [
      "\u001b[1;31mThe Kernel crashed while executing code in the current cell or a previous cell. \n",
      "\u001b[1;31mPlease review the code in the cell(s) to identify a possible cause of the failure. \n",
      "\u001b[1;31mClick <a href='https://aka.ms/vscodeJupyterKernelCrash'>here</a> for more info. \n",
      "\u001b[1;31mView Jupyter <a href='command:jupyter.viewOutput'>log</a> for further details."
     ]
    }
   ],
   "source": [
    "knight.get_tiles_by_action('move')"
   ]
  },
  {
   "cell_type": "code",
   "execution_count": null,
   "metadata": {},
   "outputs": [],
   "source": []
  }
 ],
 "metadata": {
  "kernelspec": {
   "display_name": ".venv",
   "language": "python",
   "name": "python3"
  },
  "language_info": {
   "codemirror_mode": {
    "name": "ipython",
    "version": 3
   },
   "file_extension": ".py",
   "mimetype": "text/x-python",
   "name": "python",
   "nbconvert_exporter": "python",
   "pygments_lexer": "ipython3",
   "version": "3.11.4"
  }
 },
 "nbformat": 4,
 "nbformat_minor": 2
}
