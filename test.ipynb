{
 "cells": [
  {
   "cell_type": "code",
   "execution_count": 1,
   "metadata": {},
   "outputs": [],
   "source": [
    "from will_citadel import *\n",
    "from will_citadel_test import ExampleGame"
   ]
  },
  {
   "cell_type": "code",
   "execution_count": 2,
   "metadata": {},
   "outputs": [],
   "source": [
    "game = ExampleGame().setup_full_game()\n",
    "player0, player1 = game.players"
   ]
  },
  {
   "cell_type": "code",
   "execution_count": 3,
   "metadata": {},
   "outputs": [
    {
     "data": {
      "text/html": [
       "<div>\n",
       "        <div style='display: flex; flex-wrap: wrap; width: 100px;'><div style='background-color: #000000; font-size: 1.5rem;'>🙎</div><div style='background-color: #000000; font-size: 1.5rem;'>🗡️</div><div style='background-color: #000000; font-size: 1.5rem;'>💣</div><div style='background-color: #000000; font-size: 1.5rem;'>🙎</div><div style='background-color: #000000; font-size: 1.5rem;'>🧙‍♂️</div><div style='background-color: #000000; font-size: 1.5rem;'>🗡️</div></div>\n",
       "        <div style='display: flex; flex-direction: row;'>\n",
       "            <div style='display: flex; flex-direction: column;'>Player 0<div style='display: flex; flex-wrap: wrap; width: 100px;'><div style='background-color: #000000; font-size: 1.5rem;'>🐢</div><div style='background-color: #000000; font-size: 1.5rem;'>♞</div></div></div>\n",
       "            <table style='table-layout: fixed;'><tr style='height: 36px;'><th></th><th>y0</th><th>y1</th><th>y2</th><th>y3</th><th>y4</th></tr><tr style='height: 60px;'><th>x0</th><td style='background-color: #fceecf; transform: rotate(0deg); width: 58px; height 58px; border: 1px solid white; color: black; text-align: center; font-size: 1.5rem; padding: 0; margin: 0;'> </td><td style='background-color: #fceecf; transform: rotate(0deg); width: 58px; height 58px; border: 1px solid white; color: black; text-align: center; font-size: 1.5rem; padding: 0; margin: 0;'> </td><td style='background-color: #fceecf; transform: rotate(270deg); width: 58px; height 58px; border: 1px solid white; color: black; text-align: center; font-size: 1.5rem; padding: 0; margin: 0;'>🐦</td><td style='background-color: #fceecf; transform: rotate(270deg); width: 58px; height 58px; border: 1px solid white; color: black; text-align: center; font-size: 1.5rem; padding: 0; margin: 0;'>⛃</td><td style='background-color: #87CEEB; transform: rotate(0deg); width: 58px; height 58px; border: 1px solid white; color: black; text-align: center; font-size: 1.5rem; padding: 0; margin: 0;'> </td></tr><tr style='height: 60px;'><th>x1</th><td style='background-color: #fceecf; transform: rotate(90deg); width: 58px; height 58px; border: 1px solid white; color: black; text-align: center; font-size: 1.5rem; padding: 0; margin: 0;'>♞</td><td style='background-color: #87CEEB; transform: rotate(0deg); width: 58px; height 58px; border: 1px solid white; color: black; text-align: center; font-size: 1.5rem; padding: 0; margin: 0;'> </td><td style='background-color: #fceecf; transform: rotate(0deg); width: 58px; height 58px; border: 1px solid white; color: black; text-align: center; font-size: 1.5rem; padding: 0; margin: 0;'> </td><td style='background-color: #87CEEB; transform: rotate(0deg); width: 58px; height 58px; border: 1px solid white; color: black; text-align: center; font-size: 1.5rem; padding: 0; margin: 0;'> </td><td style='background-color: #fceecf; transform: rotate(0deg); width: 58px; height 58px; border: 1px solid white; color: black; text-align: center; font-size: 1.5rem; padding: 0; margin: 0;'> </td></tr><tr style='height: 60px;'><th>x2</th><td style='background-color: #fceecf; transform: rotate(90deg); width: 58px; height 58px; border: 1px solid white; color: black; text-align: center; font-size: 1.5rem; padding: 0; margin: 0;'>⛃</td><td style='background-color: #fceecf; transform: rotate(0deg); width: 58px; height 58px; border: 1px solid white; color: black; text-align: center; font-size: 1.5rem; padding: 0; margin: 0;'> </td><td style='background-color: #fceecf; transform: rotate(0deg); width: 58px; height 58px; border: 1px solid white; color: black; text-align: center; font-size: 1.5rem; padding: 0; margin: 0;'> </td><td style='background-color: #87CEEB; transform: rotate(0deg); width: 58px; height 58px; border: 1px solid white; color: black; text-align: center; font-size: 1.5rem; padding: 0; margin: 0;'> </td><td style='background-color: #87CEEB; transform: rotate(0deg); width: 58px; height 58px; border: 1px solid white; color: black; text-align: center; font-size: 1.5rem; padding: 0; margin: 0;'> </td></tr></table>\n",
       "            <div style='display: flex; flex-direction: column;'>Player 1<div style='display: flex; flex-wrap: wrap; width: 100px;'><div style='background-color: #000000; font-size: 1.5rem;'>🐇</div><div style='background-color: #000000; font-size: 1.5rem;'>🐦</div></div></div>\n",
       "        </div>\n",
       "        <div style='display: flex; flex-wrap: wrap; width: 100px;'></div>\n",
       "        <p>Current Player: Player 0</p>\n",
       "        <p>Phase: PIECE_SELECTION</p>\n",
       "        </div>"
      ],
      "text/plain": [
       "<will_citadel.Game at 0x2574d70d510>"
      ]
     },
     "execution_count": 3,
     "metadata": {},
     "output_type": "execute_result"
    }
   ],
   "source": [
    "game"
   ]
  },
  {
   "cell_type": "code",
   "execution_count": 4,
   "metadata": {},
   "outputs": [
    {
     "data": {
      "text/html": [
       "<div>\n",
       "        <div style='display: flex; flex-wrap: wrap; width: 100px;'><div style='background-color: #000000; font-size: 1.5rem;'>🙎</div><div style='background-color: #000000; font-size: 1.5rem;'>🗡️</div><div style='background-color: #000000; font-size: 1.5rem;'>💣</div><div style='background-color: #000000; font-size: 1.5rem;'>🙎</div><div style='background-color: #000000; font-size: 1.5rem;'>🧙‍♂️</div><div style='background-color: #000000; font-size: 1.5rem;'>🗡️</div></div>\n",
       "        <div style='display: flex; flex-direction: row;'>\n",
       "            <div style='display: flex; flex-direction: column;'>Player 0<div style='display: flex; flex-wrap: wrap; width: 100px;'><div style='background-color: #000000; font-size: 1.5rem;'>🐢</div><div style='background-color: #000000; font-size: 1.5rem;'>♞</div></div></div>\n",
       "            <table style='table-layout: fixed;'><tr style='height: 36px;'><th></th><th>y0</th><th>y1</th><th>y2</th><th>y3</th><th>y4</th></tr><tr style='height: 60px;'><th>x0</th><td style='background-color: #fceecf; transform: rotate(90deg); width: 58px; height 58px; border: 1px solid white; color: black; text-align: center; font-size: 1.5rem; padding: 0; margin: 0;'>♞</td><td style='background-color: #fceecf; transform: rotate(0deg); width: 58px; height 58px; border: 1px solid white; color: black; text-align: center; font-size: 1.5rem; padding: 0; margin: 0;'> </td><td style='background-color: #fceecf; transform: rotate(270deg); width: 58px; height 58px; border: 1px solid white; color: black; text-align: center; font-size: 1.5rem; padding: 0; margin: 0;'>🐦</td><td style='background-color: #fceecf; transform: rotate(270deg); width: 58px; height 58px; border: 1px solid white; color: black; text-align: center; font-size: 1.5rem; padding: 0; margin: 0;'>⛃</td><td style='background-color: #87CEEB; transform: rotate(0deg); width: 58px; height 58px; border: 1px solid white; color: black; text-align: center; font-size: 1.5rem; padding: 0; margin: 0;'> </td></tr><tr style='height: 60px;'><th>x1</th><td style='background-color: #fceecf; transform: rotate(0deg); width: 58px; height 58px; border: 1px solid white; color: black; text-align: center; font-size: 1.5rem; padding: 0; margin: 0;'> </td><td style='background-color: #87CEEB; transform: rotate(0deg); width: 58px; height 58px; border: 1px solid white; color: black; text-align: center; font-size: 1.5rem; padding: 0; margin: 0;'> </td><td style='background-color: #fceecf; transform: rotate(0deg); width: 58px; height 58px; border: 1px solid white; color: black; text-align: center; font-size: 1.5rem; padding: 0; margin: 0;'> </td><td style='background-color: #87CEEB; transform: rotate(0deg); width: 58px; height 58px; border: 1px solid white; color: black; text-align: center; font-size: 1.5rem; padding: 0; margin: 0;'> </td><td style='background-color: #fceecf; transform: rotate(0deg); width: 58px; height 58px; border: 1px solid white; color: black; text-align: center; font-size: 1.5rem; padding: 0; margin: 0;'> </td></tr><tr style='height: 60px;'><th>x2</th><td style='background-color: #fceecf; transform: rotate(90deg); width: 58px; height 58px; border: 1px solid white; color: black; text-align: center; font-size: 1.5rem; padding: 0; margin: 0;'>⛃</td><td style='background-color: #fceecf; transform: rotate(0deg); width: 58px; height 58px; border: 1px solid white; color: black; text-align: center; font-size: 1.5rem; padding: 0; margin: 0;'> </td><td style='background-color: #fceecf; transform: rotate(0deg); width: 58px; height 58px; border: 1px solid white; color: black; text-align: center; font-size: 1.5rem; padding: 0; margin: 0;'> </td><td style='background-color: #87CEEB; transform: rotate(0deg); width: 58px; height 58px; border: 1px solid white; color: black; text-align: center; font-size: 1.5rem; padding: 0; margin: 0;'> </td><td style='background-color: #87CEEB; transform: rotate(0deg); width: 58px; height 58px; border: 1px solid white; color: black; text-align: center; font-size: 1.5rem; padding: 0; margin: 0;'> </td></tr></table>\n",
       "            <div style='display: flex; flex-direction: column;'>Player 1<div style='display: flex; flex-wrap: wrap; width: 100px;'><div style='background-color: #000000; font-size: 1.5rem;'>🐇</div><div style='background-color: #000000; font-size: 1.5rem;'>🐦</div></div></div>\n",
       "        </div>\n",
       "        <div style='display: flex; flex-wrap: wrap; width: 100px;'></div>\n",
       "        <p>Current Player: Player 0</p>\n",
       "        <p>Phase: PIECE_SELECTION</p>\n",
       "        </div>"
      ],
      "text/plain": [
       "<will_citadel.Game at 0x2574d70d510>"
      ]
     },
     "execution_count": 4,
     "metadata": {},
     "output_type": "execute_result"
    }
   ],
   "source": [
    "player0.move(Coordinate(1, 0), Coordinate(0, 0))\n",
    "game"
   ]
  },
  {
   "cell_type": "code",
   "execution_count": null,
   "metadata": {},
   "outputs": [],
   "source": []
  }
 ],
 "metadata": {
  "kernelspec": {
   "display_name": ".venv",
   "language": "python",
   "name": "python3"
  },
  "language_info": {
   "codemirror_mode": {
    "name": "ipython",
    "version": 3
   },
   "file_extension": ".py",
   "mimetype": "text/x-python",
   "name": "python",
   "nbconvert_exporter": "python",
   "pygments_lexer": "ipython3",
   "version": "3.11.4"
  }
 },
 "nbformat": 4,
 "nbformat_minor": 2
}
